{
 "cells": [
  {
   "cell_type": "code",
   "execution_count": 6,
   "id": "16f6ad05",
   "metadata": {},
   "outputs": [],
   "source": [
    "# Import required libraries\n",
    "\n",
    "import numpy as np\n",
    "import tensorflow as tf\n",
    "from tensorflow import keras\n",
    "import pandas as pd\n",
    "import matplotlib.pyplot as plt\n",
    "import matplotlib.image as mpimg\n",
    "import cv2\n",
    "import numpy as np\n",
    "from scipy import misc\n",
    "import random\n",
    "from tensorflow.keras import models\n",
    "from tensorflow.keras.optimizers import RMSprop\n",
    "from tensorflow.keras.preprocessing.image import ImageDataGenerator\n",
    "from keras.preprocessing import image\n",
    "from shutil import copyfile\n",
    "import os\n",
    "import zipfile\n",
    "\n",
    "%matplotlib inline"
   ]
  },
  {
   "cell_type": "code",
   "execution_count": 5,
   "id": "38a0410f",
   "metadata": {},
   "outputs": [
    {
     "name": "stdout",
     "output_type": "stream",
     "text": [
      "12501\n",
      "12501\n"
     ]
    }
   ],
   "source": [
    "# Manually download the data and extract the zip file\n",
    "# We are using microsoft provided public data\n",
    "# Download link - https://download.microsoft.com/download/3/E/1/3E1C3F21-ECDB-4869-8368-6DEBA77B919F/kagglecatsanddogs_3367a.zip\n",
    "\n",
    "local_zip = r'D:/practice/tensorflow/kagglecatsanddogs_3367a.zip'\n",
    "zip_ref   = zipfile.ZipFile(local_zip, 'r')\n",
    "zip_ref.extractall(r'D:/practice/tensorflow/')\n",
    "zip_ref.close()\n",
    "print(len(os.listdir(r'D:/practice/tensorflow/PetImages/Cat/')))\n",
    "print(len(os.listdir(r'D:/practice/tensorflow/PetImages/Dog/'))) "
   ]
  },
  {
   "cell_type": "code",
   "execution_count": 7,
   "id": "6e815f90",
   "metadata": {},
   "outputs": [
    {
     "name": "stdout",
     "output_type": "stream",
     "text": [
      "666.jpg is zero length, so ignoring.\n",
      "11702.jpg is zero length, so ignoring.\n"
     ]
    }
   ],
   "source": [
    "# Prepare the data\n",
    "\n",
    "try:\n",
    "    os.mkdir(r'D:/practice/tensorflow/cats-v-dogs')\n",
    "    os.mkdir(r'D:/practice/tensorflow/cats-v-dogs/training')\n",
    "    os.mkdir(r'D:/practice/tensorflow/cats-v-dogs/testing')\n",
    "    os.mkdir(r'D:/practice/tensorflow/cats-v-dogs/training/cats')\n",
    "    os.mkdir(r'D:/practice/tensorflow/cats-v-dogs/training/dogs')\n",
    "    os.mkdir(r'D:/practice/tensorflow/cats-v-dogs/testing/cats')\n",
    "    os.mkdir(r'D:/practice/tensorflow/cats-v-dogs/testing/dogs')\n",
    "except OSError:\n",
    "    pass\n",
    "\n",
    "def split_data(SOURCE, TRAINING, TESTING, SPLIT_SIZE):\n",
    "    files = []\n",
    "    for filename in os.listdir(SOURCE):\n",
    "        file = SOURCE + filename\n",
    "        if os.path.getsize(file) > 0:\n",
    "            files.append(filename)\n",
    "        else:\n",
    "            print(filename + \" is zero length, so ignoring.\")\n",
    " \n",
    "    training_length = int(len(files) * SPLIT_SIZE)\n",
    "    testing_length = int(len(files) - training_length)\n",
    "    shuffled_set = random.sample(files, len(files))\n",
    "    training_set = shuffled_set[0:training_length]\n",
    "    testing_set = shuffled_set[:testing_length]\n",
    " \n",
    "    for filename in training_set:\n",
    "        this_file = SOURCE + filename\n",
    "        destination = TRAINING + filename\n",
    "        copyfile(this_file, destination)\n",
    " \n",
    "    for filename in testing_set:\n",
    "        this_file = SOURCE + filename\n",
    "        destination = TESTING + filename\n",
    "        copyfile(this_file, destination)\n",
    " \n",
    " \n",
    "CAT_SOURCE_DIR = r\"D:/practice/tensorflow/PetImages/Cat/\"\n",
    "TRAINING_CATS_DIR = r\"D:/practice/tensorflow/cats-v-dogs/training/cats/\"\n",
    "TESTING_CATS_DIR = r\"D:/practice/tensorflow/cats-v-dogs/testing/cats/\"\n",
    "DOG_SOURCE_DIR = r\"D:/practice/tensorflow/PetImages/Dog/\"\n",
    "TRAINING_DOGS_DIR = r\"D:/practice/tensorflow/cats-v-dogs/training/dogs/\"\n",
    "TESTING_DOGS_DIR = r\"D:/practice/tensorflow/cats-v-dogs/testing/dogs/\"\n",
    " \n",
    "split_size = .9\n",
    "split_data(CAT_SOURCE_DIR, TRAINING_CATS_DIR, TESTING_CATS_DIR, split_size)\n",
    "split_data(DOG_SOURCE_DIR, TRAINING_DOGS_DIR, TESTING_DOGS_DIR, split_size)\n"
   ]
  },
  {
   "cell_type": "code",
   "execution_count": 8,
   "id": "d439ba69",
   "metadata": {},
   "outputs": [
    {
     "name": "stdout",
     "output_type": "stream",
     "text": [
      "11250\n",
      "11250\n",
      "1250\n",
      "1250\n"
     ]
    }
   ],
   "source": [
    "print(len(os.listdir(r'D:/practice/tensorflow/cats-v-dogs/training/cats/')))\n",
    "print(len(os.listdir(r'D:/practice/tensorflow/cats-v-dogs/training/dogs/')))\n",
    "print(len(os.listdir(r'D:/practice/tensorflow/cats-v-dogs/testing/cats/')))\n",
    "print(len(os.listdir(r'D:/practice/tensorflow/cats-v-dogs/testing/dogs/')))"
   ]
  },
  {
   "cell_type": "code",
   "execution_count": 9,
   "id": "0698ab7b",
   "metadata": {},
   "outputs": [],
   "source": [
    "# Define and compile the model\n",
    "\n",
    "model = tf.keras.models.Sequential([\n",
    "    tf.keras.layers.Conv2D(16, (3, 3), activation='relu', input_shape=(150, 150, 3)),\n",
    "    tf.keras.layers.MaxPooling2D(2, 2),\n",
    "    tf.keras.layers.Conv2D(32, (3, 3), activation='relu'),\n",
    "    tf.keras.layers.MaxPooling2D(2, 2),\n",
    "    tf.keras.layers.Conv2D(64, (3, 3), activation='relu'),\n",
    "    tf.keras.layers.MaxPooling2D(2, 2),\n",
    "    tf.keras.layers.Flatten(),\n",
    "    tf.keras.layers.Dense(512, activation='relu'),\n",
    "    tf.keras.layers.Dense(1, activation='sigmoid')\n",
    "]) \n",
    "\n",
    "model.compile(optimizer=RMSprop(learning_rate=0.001), loss='binary_crossentropy', metrics=['accuracy'])"
   ]
  },
  {
   "cell_type": "code",
   "execution_count": 10,
   "id": "a348bc5c",
   "metadata": {},
   "outputs": [
    {
     "name": "stdout",
     "output_type": "stream",
     "text": [
      "Found 22498 images belonging to 2 classes.\n",
      "Found 2499 images belonging to 2 classes.\n"
     ]
    }
   ],
   "source": [
    "# Split the model\n",
    "\n",
    "TRAINING_DIR = r\"D:/practice/tensorflow/cats-v-dogs/training/\"\n",
    "train_datagen = ImageDataGenerator(rescale=1.0/255.)\n",
    "train_generator = train_datagen.flow_from_directory(TRAINING_DIR,\n",
    "                                                    batch_size=100,\n",
    "                                                    class_mode='binary',\n",
    "                                                    target_size=(150, 150))\n",
    " \n",
    "VALIDATION_DIR = r\"D:/practice/tensorflow/cats-v-dogs/testing/\"\n",
    "validation_datagen = ImageDataGenerator(rescale=1.0/255.)\n",
    "validation_generator = validation_datagen.flow_from_directory(VALIDATION_DIR,\n",
    "                                                              batch_size=100,\n",
    "                                                              class_mode='binary',\n",
    "                                                              target_size=(150, 150))\n",
    " "
   ]
  },
  {
   "cell_type": "code",
   "execution_count": 12,
   "id": "2864fae1",
   "metadata": {},
   "outputs": [
    {
     "name": "stdout",
     "output_type": "stream",
     "text": [
      "Epoch 1/15\n",
      "225/225 [==============================] - 231s 1s/step - loss: 0.5741 - accuracy: 0.6970 - val_loss: 0.4563 - val_accuracy: 0.7839\n",
      "Epoch 2/15\n",
      "225/225 [==============================] - 239s 1s/step - loss: 0.4671 - accuracy: 0.7790 - val_loss: 0.3744 - val_accuracy: 0.8291\n",
      "Epoch 3/15\n",
      "225/225 [==============================] - 239s 1s/step - loss: 0.4016 - accuracy: 0.8165 - val_loss: 0.3173 - val_accuracy: 0.8587\n",
      "Epoch 4/15\n",
      "225/225 [==============================] - 236s 1s/step - loss: 0.3434 - accuracy: 0.8527 - val_loss: 0.2653 - val_accuracy: 0.8888\n",
      "Epoch 5/15\n",
      "225/225 [==============================] - 224s 995ms/step - loss: 0.2837 - accuracy: 0.8799 - val_loss: 0.1854 - val_accuracy: 0.9304\n",
      "Epoch 6/15\n",
      "225/225 [==============================] - 246s 1s/step - loss: 0.2117 - accuracy: 0.9131 - val_loss: 0.1394 - val_accuracy: 0.9528\n",
      "Epoch 7/15\n",
      "225/225 [==============================] - 236s 1s/step - loss: 0.1510 - accuracy: 0.9425 - val_loss: 0.0925 - val_accuracy: 0.9700\n",
      "Epoch 8/15\n",
      "225/225 [==============================] - 232s 1s/step - loss: 0.1031 - accuracy: 0.9629 - val_loss: 0.0573 - val_accuracy: 0.9836\n",
      "Epoch 9/15\n",
      "225/225 [==============================] - 236s 1s/step - loss: 0.0747 - accuracy: 0.9757 - val_loss: 0.0128 - val_accuracy: 0.9984\n",
      "Epoch 10/15\n",
      "225/225 [==============================] - 242s 1s/step - loss: 0.0513 - accuracy: 0.9822 - val_loss: 0.0194 - val_accuracy: 0.9948\n",
      "Epoch 11/15\n",
      "225/225 [==============================] - 257s 1s/step - loss: 0.0580 - accuracy: 0.9841 - val_loss: 0.2937 - val_accuracy: 0.8836\n",
      "Epoch 12/15\n",
      "225/225 [==============================] - 242s 1s/step - loss: 0.0390 - accuracy: 0.9880 - val_loss: 0.0056 - val_accuracy: 0.9984\n",
      "Epoch 13/15\n",
      "225/225 [==============================] - 234s 1s/step - loss: 0.0398 - accuracy: 0.9892 - val_loss: 0.0034 - val_accuracy: 0.9996\n",
      "Epoch 14/15\n",
      "225/225 [==============================] - 247s 1s/step - loss: 0.0583 - accuracy: 0.9858 - val_loss: 0.0026 - val_accuracy: 0.9996\n",
      "Epoch 15/15\n",
      "225/225 [==============================] - 237s 1s/step - loss: 0.0355 - accuracy: 0.9913 - val_loss: 0.0015 - val_accuracy: 1.0000\n"
     ]
    }
   ],
   "source": [
    "# Train the model\n",
    "\n",
    "# we can use model.fit_generator as well but since model.fit_generator is deprecated will use model.fit method for training\n",
    "\n",
    "history = model.fit(train_generator,\n",
    "                              epochs=15,\n",
    "                              verbose=1,\n",
    "                              validation_data=validation_generator)"
   ]
  },
  {
   "cell_type": "code",
   "execution_count": 13,
   "id": "d405ca1b",
   "metadata": {},
   "outputs": [
    {
     "data": {
      "text/plain": [
       "<Figure size 432x288 with 0 Axes>"
      ]
     },
     "execution_count": 13,
     "metadata": {},
     "output_type": "execute_result"
    },
    {
     "data": {
      "image/png": "[encoded data removed]",
      "text/plain": [
       "<Figure size 432x288 with 1 Axes>"
      ]
     },
     "metadata": {
      "needs_background": "light"
     },
     "output_type": "display_data"
    },
    {
     "data": {
      "image/png": "[encoded data removed]",
      "text/plain": [
       "<Figure size 432x288 with 1 Axes>"
      ]
     },
     "metadata": {
      "needs_background": "light"
     },
     "output_type": "display_data"
    },
    {
     "data": {
      "text/plain": [
       "<Figure size 432x288 with 0 Axes>"
      ]
     },
     "metadata": {},
     "output_type": "display_data"
    }
   ],
   "source": [
    "# Explore the results\n",
    "\n",
    "#-----------------------------------------------------------\n",
    "# Retrieve a list of list results on training and test data\n",
    "# sets for each training epoch\n",
    "#-----------------------------------------------------------\n",
    "acc=history.history['accuracy']\n",
    "val_acc=history.history['val_accuracy']\n",
    "loss=history.history['loss']\n",
    "val_loss=history.history['val_loss']\n",
    " \n",
    "epochs=range(len(acc)) # Get number of epochs\n",
    " \n",
    "#------------------------------------------------\n",
    "# Plot training and validation accuracy per epoch\n",
    "#------------------------------------------------\n",
    "plt.plot(epochs, acc, 'r', \"Training Accuracy\")\n",
    "plt.plot(epochs, val_acc, 'b', \"Validation Accuracy\")\n",
    "plt.title('Training and validation accuracy')\n",
    "plt.figure()\n",
    " \n",
    "#------------------------------------------------\n",
    "# Plot training and validation loss per epoch\n",
    "#------------------------------------------------\n",
    "plt.plot(epochs, loss, 'r', \"Training Loss\")\n",
    "plt.plot(epochs, val_loss, 'b', \"Validation Loss\")\n",
    "plt.figure()"
   ]
  },
  {
   "cell_type": "code",
   "execution_count": 15,
   "id": "cb1aca93",
   "metadata": {},
   "outputs": [
    {
     "name": "stdout",
     "output_type": "stream",
     "text": [
      "[1.]\n",
      "c.jpg is a dog\n",
      "[1.]\n",
      "c1.jpg is a dog\n",
      "[1.]\n",
      "c2.jpg is a dog\n",
      "[1.]\n",
      "d.jpg is a dog\n",
      "[1.]\n",
      "d1.jpg is a dog\n",
      "[1.]\n",
      "d2.jpg is a dog\n"
     ]
    }
   ],
   "source": [
    "# Test the model\n",
    " \n",
    "for fn in os.listdir(r'D:/practice/tensorflow/catdog/'):\n",
    " \n",
    "  # predicting images\n",
    "  path = r'D:/practice/tensorflow/catdog/' + fn\n",
    "  img = image.load_img(path, target_size=(150, 150))\n",
    "  x = image.img_to_array(img)\n",
    "  x = np.expand_dims(x, axis=0)\n",
    " \n",
    "  images = np.vstack([x])\n",
    "  classes = model.predict(images, batch_size=10)\n",
    "  print(classes[0])\n",
    "  if classes[0]>0.5:\n",
    "    print(fn + \" is a dog\")\n",
    "  else:\n",
    "    print(fn + \" is a cat\")"
   ]
  },
  {
   "cell_type": "code",
   "execution_count": null,
   "id": "cd81a640",
   "metadata": {},
   "outputs": [],
   "source": []
  }
 ],
 "metadata": {
  "kernelspec": {
   "display_name": "Python 3",
   "language": "python",
   "name": "python3"
  },
  "language_info": {
   "codemirror_mode": {
    "name": "ipython",
    "version": 3
   },
   "file_extension": ".py",
   "mimetype": "text/x-python",
   "name": "python",
   "nbconvert_exporter": "python",
   "pygments_lexer": "ipython3",
   "version": "3.8.8"
  }
 },
 "nbformat": 4,
 "nbformat_minor": 5
}
