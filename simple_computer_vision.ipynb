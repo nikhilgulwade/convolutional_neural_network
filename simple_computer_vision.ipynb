{
 "cells": [
  {
   "cell_type": "code",
   "execution_count": 9,
   "id": "386b939a",
   "metadata": {},
   "outputs": [],
   "source": [
    "import numpy as np\n",
    "import tensorflow as tf\n",
    "from tensorflow import keras\n",
    "import pandas as pd\n",
    "import matplotlib.pyplot as plt"
   ]
  },
  {
   "cell_type": "code",
   "execution_count": 10,
   "id": "b7020a0f",
   "metadata": {},
   "outputs": [],
   "source": [
    "# Use MNIST Fashion dataset\n",
    "\n",
    "mnist = keras.datasets.fashion_mnist"
   ]
  },
  {
   "cell_type": "code",
   "execution_count": 11,
   "id": "08b06eb9",
   "metadata": {},
   "outputs": [],
   "source": [
    "# Load data into training and testing\n",
    "\n",
    "(training_images, training_labels), (test_images, test_labels) = mnist.load_data()"
   ]
  },
  {
   "cell_type": "code",
   "execution_count": 12,
   "id": "a12df269",
   "metadata": {},
   "outputs": [
    {
     "name": "stdout",
     "output_type": "stream",
     "text": [
      "9\n",
      "[[  0   0   0   0   0   0   0   0   0   0   0   0   0   0   0   0   0   0\n",
      "    0   0   0   0   0   0   0   0   0   0]\n",
      " [  0   0   0   0   0   0   0   0   0   0   0   0   0   0   0   0   0   0\n",
      "    0   0   0   0   0   0   0   0   0   0]\n",
      " [  0   0   0   0   0   0   0   0   0   0   0   0   0   0   0   0   0   0\n",
      "    0   0   0   0   0   0   0   0   0   0]\n",
      " [  0   0   0   0   0   0   0   0   0   0   0   0   0   0   0   0   0   0\n",
      "    0   0   0   0   0   0   0   0   0   0]\n",
      " [  0   0   0   0   0   0   0   0   0   0   0   0   0   0   0   0   0   0\n",
      "    0   0   0   0   0   0   0   0   0   0]\n",
      " [  0   0   0   0   0   0   0   0   0   0   0   0   0   0   0   0  82 187\n",
      "   26   0   0   0   0   0   0   0   0   0]\n",
      " [  0   0   0   0   0   0   0   0   0   1   0   0   1   0   0 179 240 237\n",
      "  255 240 139  83  64  43  60  54   0   1]\n",
      " [  0   0   0   0   0   0   0   0   0   1   0   0   1   0  58 239 222 234\n",
      "  238 246 252 254 255 248 255 187   0   0]\n",
      " [  0   0   0   0   0   0   0   0   0   0   2   3   0   0 194 239 226 237\n",
      "  235 232 230 234 234 233 249 171   0   0]\n",
      " [  0   0   0   0   0   0   0   0   0   1   1   0   0  10 255 226 242 239\n",
      "  238 239 240 239 242 238 248 192   0   0]\n",
      " [  0   0   0   0   0   0   0   0   0   0   0   0   0 172 245 229 240 241\n",
      "  240 241 243 243 241 227 250 209   0   0]\n",
      " [  0   0   0   0   0   0   0   0   0   6   5   0  62 255 230 236 239 241\n",
      "  242 241 242 242 238 238 242 253   0   0]\n",
      " [  0   0   0   0   0   0   0   0   0   3   0   0 255 235 228 244 241 241\n",
      "  244 243 243 244 243 239 235 255  22   0]\n",
      " [  0   0   0   0   0   0   0   0   0   0   0 246 228 220 245 243 237 241\n",
      "  242 242 242 243 239 237 235 253 106   0]\n",
      " [  0   0   3   4   4   2   1   0   0  18 243 228 231 241 243 237 238 242\n",
      "  241 240 240 240 235 237 236 246 234   0]\n",
      " [  1   0   0   0   0   0   0   0  22 255 238 227 238 239 237 241 241 237\n",
      "  236 238 239 239 239 239 239 237 255   0]\n",
      " [  0   0   0   0   0  25  83 168 255 225 225 235 228 230 227 225 227 231\n",
      "  232 237 240 236 238 239 239 235 251  62]\n",
      " [  0 165 225 220 224 255 255 233 229 223 227 228 231 232 235 237 233 230\n",
      "  228 230 233 232 235 233 234 235 255  58]\n",
      " [ 52 251 221 226 227 225 225 225 226 226 225 227 231 229 232 239 245 250\n",
      "  251 252 254 254 252 254 252 235 255   0]\n",
      " [ 31 208 230 233 233 237 236 236 241 235 241 247 251 254 242 236 233 227\n",
      "  219 202 193 189 186 181 171 165 190  42]\n",
      " [ 77 199 172 188 199 202 218 219 220 229 234 222 213 209 207 210 203 184\n",
      "  152 171 165 162 162 167 168 157 192  78]\n",
      " [  0  45 101 140 159 174 182 186 185 188 195 197 188 175 133  70  19   0\n",
      "    0 209 231 218 222 224 227 217 229  93]\n",
      " [  0   0   0   0   0   0   2  24  37  45  32  18  11   0   0   0   0   0\n",
      "    0  72  51  53  37  34  29  31   5   0]\n",
      " [  0   0   0   0   0   0   0   0   0   0   0   0   0   0   0   0   0   0\n",
      "    0   0   0   0   0   0   0   0   0   0]\n",
      " [  0   0   0   0   0   0   0   0   0   0   0   0   0   0   0   0   0   0\n",
      "    0   0   0   0   0   0   0   0   0   0]\n",
      " [  0   0   0   0   0   0   0   0   0   0   0   0   0   0   0   0   0   0\n",
      "    0   0   0   0   0   0   0   0   0   0]\n",
      " [  0   0   0   0   0   0   0   0   0   0   0   0   0   0   0   0   0   0\n",
      "    0   0   0   0   0   0   0   0   0   0]\n",
      " [  0   0   0   0   0   0   0   0   0   0   0   0   0   0   0   0   0   0\n",
      "    0   0   0   0   0   0   0   0   0   0]]\n"
     ]
    },
    {
     "data": {
      "image/png": "[encoded data removed]",
      "text/plain": [
       "<Figure size 432x288 with 1 Axes>"
      ]
     },
     "metadata": {
      "needs_background": "light"
     },
     "output_type": "display_data"
    }
   ],
   "source": [
    "# Check out input data\n",
    "\n",
    "plt.imshow(training_images[42])\n",
    "print(training_labels[42])\n",
    "print(training_images[42])"
   ]
  },
  {
   "cell_type": "code",
   "execution_count": 13,
   "id": "5b4e0d63",
   "metadata": {},
   "outputs": [],
   "source": [
    "# Normalize the data - as the integers are between 0 and 255 \n",
    "# to Normalize the data we can divide it by 255 to get the values to 0 to 1\n",
    "\n",
    "training_images  = training_images / 255.0\n",
    "test_images = test_images / 255.0"
   ]
  },
  {
   "cell_type": "markdown",
   "id": "8fee348f",
   "metadata": {},
   "source": [
    "**Sequential : defines a sequence of layers in the neural network.\n",
    "\n",
    "**Flatten : takes a square and turns it into a one-dimensional vector.\n",
    "\n",
    "**Dense : adds a layer of neurons.\n",
    "\n",
    "**Activation functions : tell each layer of neurons what to do. There are lots of options, but use these for now:\n",
    "\n",
    "**Relu : effectively means that if X is greater than 0 return X, else return 0. It only passes values of 0 or greater to the next layer in the network.\n",
    "\n",
    "**Softmax : takes a set of values, and effectively picks the biggest one. For example, if the output of the last layer looks like [0.1, 0.1, 0.05, 0.1, 9.5, 0.1, 0.05, 0.05, 0.05], then it saves you from having to sort for the largest value—it returns [0,0,0,0,1,0,0,0,0]."
   ]
  },
  {
   "cell_type": "code",
   "execution_count": 15,
   "id": "6e8e4af6",
   "metadata": {},
   "outputs": [],
   "source": [
    "# Design the model\n",
    "\n",
    "model = tf.keras.models.Sequential([tf.keras.layers.Flatten(), \n",
    "                                    tf.keras.layers.Dense(128, activation=tf.nn.relu), \n",
    "                                    tf.keras.layers.Dense(10, activation=tf.nn.softmax)])\n"
   ]
  },
  {
   "cell_type": "code",
   "execution_count": 17,
   "id": "619cb621",
   "metadata": {},
   "outputs": [
    {
     "name": "stdout",
     "output_type": "stream",
     "text": [
      "Epoch 1/10\n",
      "1875/1875 [==============================] - 3s 2ms/step - loss: 0.2832 - accuracy: 0.8963TA: \n",
      "Epoch 2/10\n",
      "1875/1875 [==============================] - 3s 2ms/step - loss: 0.2676 - accuracy: 0.9006: 2s - loss: 0.2709 - accuracy -\n",
      "Epoch 3/10\n",
      "1875/1875 [==============================] - 4s 2ms/step - loss: 0.2586 - accuracy: 0.9040\n",
      "Epoch 4/10\n",
      "1875/1875 [==============================] - 4s 2ms/step - loss: 0.2515 - accuracy: 0.9069\n",
      "Epoch 5/10\n",
      "1875/1875 [==============================] - 4s 2ms/step - loss: 0.2419 - accuracy: 0.9089\n",
      "Epoch 6/10\n",
      "1875/1875 [==============================] - 3s 2ms/step - loss: 0.2320 - accuracy: 0.9136\n",
      "Epoch 7/10\n",
      "1875/1875 [==============================] - 4s 2ms/step - loss: 0.2259 - accuracy: 0.9155\n",
      "Epoch 8/10\n",
      "1875/1875 [==============================] - 4s 2ms/step - loss: 0.2199 - accuracy: 0.9178\n",
      "Epoch 9/10\n",
      "1875/1875 [==============================] - 4s 2ms/step - loss: 0.2128 - accuracy: 0.9200\n",
      "Epoch 10/10\n",
      "1875/1875 [==============================] - 4s 2ms/step - loss: 0.2079 - accuracy: 0.9228\n"
     ]
    },
    {
     "data": {
      "text/plain": [
       "<tensorflow.python.keras.callbacks.History at 0x1e2397a9340>"
      ]
     },
     "execution_count": 17,
     "metadata": {},
     "output_type": "execute_result"
    }
   ],
   "source": [
    "# Compile and train the model\n",
    "\n",
    "model.compile(optimizer = tf.keras.optimizers.Adam(),\n",
    "              loss = 'sparse_categorical_crossentropy',\n",
    "              metrics=['accuracy'])\n",
    "\n",
    "model.fit(training_images, training_labels, epochs=10)\n"
   ]
  },
  {
   "cell_type": "code",
   "execution_count": 18,
   "id": "f7844634",
   "metadata": {},
   "outputs": [
    {
     "name": "stdout",
     "output_type": "stream",
     "text": [
      "313/313 [==============================] - 1s 1ms/step - loss: 0.3341 - accuracy: 0.8887\n"
     ]
    },
    {
     "data": {
      "text/plain": [
       "[0.33413711190223694, 0.888700008392334]"
      ]
     },
     "execution_count": 18,
     "metadata": {},
     "output_type": "execute_result"
    }
   ],
   "source": [
    "# Test the model\n",
    "\n",
    "model.evaluate(test_images, test_labels)\n"
   ]
  },
  {
   "cell_type": "code",
   "execution_count": 19,
   "id": "a8e33d6f",
   "metadata": {},
   "outputs": [
    {
     "name": "stdout",
     "output_type": "stream",
     "text": [
      "[1.4276655e-08 4.4115909e-12 2.9427988e-11 9.5162203e-16 1.7944144e-11\n",
      " 5.0891984e-05 5.8191646e-10 4.3834122e-03 1.8281305e-12 9.9556571e-01]\n"
     ]
    }
   ],
   "source": [
    "# Exploration exercises\n",
    "\n",
    "classifications = model.predict(test_images)\n",
    "print(classifications[0])"
   ]
  },
  {
   "cell_type": "code",
   "execution_count": 20,
   "id": "d4fd493e",
   "metadata": {},
   "outputs": [
    {
     "name": "stdout",
     "output_type": "stream",
     "text": [
      "9\n"
     ]
    }
   ],
   "source": [
    "print(test_labels[0])"
   ]
  },
  {
   "cell_type": "code",
   "execution_count": 21,
   "id": "febff3d1",
   "metadata": {},
   "outputs": [],
   "source": [
    "# Experiment model with 512 Neuron\n",
    "\n",
    "model = tf.keras.models.Sequential([tf.keras.layers.Flatten(), \n",
    "                                    tf.keras.layers.Dense(512, activation=tf.nn.relu), \n",
    "                                    tf.keras.layers.Dense(10, activation=tf.nn.softmax)])\n"
   ]
  },
  {
   "cell_type": "code",
   "execution_count": 22,
   "id": "9d6f507f",
   "metadata": {},
   "outputs": [
    {
     "name": "stdout",
     "output_type": "stream",
     "text": [
      "Epoch 1/10\n",
      "1875/1875 [==============================] - 8s 4ms/step - loss: 0.4712 - accuracy: 0.8318\n",
      "Epoch 2/10\n",
      "1875/1875 [==============================] - 9s 5ms/step - loss: 0.3581 - accuracy: 0.8681\n",
      "Epoch 3/10\n",
      "1875/1875 [==============================] - 7s 4ms/step - loss: 0.3232 - accuracy: 0.8816\n",
      "Epoch 4/10\n",
      "1875/1875 [==============================] - 7s 4ms/step - loss: 0.3013 - accuracy: 0.8885\n",
      "Epoch 5/10\n",
      "1875/1875 [==============================] - 7s 4ms/step - loss: 0.2806 - accuracy: 0.8970\n",
      "Epoch 6/10\n",
      "1875/1875 [==============================] - 7s 4ms/step - loss: 0.2666 - accuracy: 0.9002\n",
      "Epoch 7/10\n",
      "1875/1875 [==============================] - 7s 4ms/step - loss: 0.2511 - accuracy: 0.9064\n",
      "Epoch 8/10\n",
      "1875/1875 [==============================] - 7s 4ms/step - loss: 0.2403 - accuracy: 0.9103\n",
      "Epoch 9/10\n",
      "1875/1875 [==============================] - 7s 4ms/step - loss: 0.2318 - accuracy: 0.9137\n",
      "Epoch 10/10\n",
      "1875/1875 [==============================] - 7s 4ms/step - loss: 0.2208 - accuracy: 0.9178\n"
     ]
    },
    {
     "data": {
      "text/plain": [
       "<tensorflow.python.keras.callbacks.History at 0x1e239bf7b80>"
      ]
     },
     "execution_count": 22,
     "metadata": {},
     "output_type": "execute_result"
    }
   ],
   "source": [
    "# Compile and train the model\n",
    "\n",
    "model.compile(optimizer = tf.keras.optimizers.Adam(),\n",
    "              loss = 'sparse_categorical_crossentropy',\n",
    "              metrics=['accuracy'])\n",
    "\n",
    "model.fit(training_images, training_labels, epochs=10)"
   ]
  },
  {
   "cell_type": "code",
   "execution_count": 23,
   "id": "8ce0a5c7",
   "metadata": {},
   "outputs": [
    {
     "name": "stdout",
     "output_type": "stream",
     "text": [
      "313/313 [==============================] - 1s 2ms/step - loss: 0.3369 - accuracy: 0.8859\n"
     ]
    },
    {
     "data": {
      "text/plain": [
       "[0.3368992507457733, 0.8859000205993652]"
      ]
     },
     "execution_count": 23,
     "metadata": {},
     "output_type": "execute_result"
    }
   ],
   "source": [
    "# Test the model\n",
    "\n",
    "model.evaluate(test_images, test_labels)"
   ]
  },
  {
   "cell_type": "code",
   "execution_count": 24,
   "id": "c33b14c6",
   "metadata": {},
   "outputs": [
    {
     "name": "stdout",
     "output_type": "stream",
     "text": [
      "[5.7324878e-10 1.7362742e-09 1.9309984e-11 2.9991534e-10 1.0316475e-10\n",
      " 7.3702518e-05 2.7988475e-10 9.8636635e-03 5.0740500e-08 9.9006265e-01]\n"
     ]
    }
   ],
   "source": [
    "# Exploration exercises\n",
    "\n",
    "classifications = model.predict(test_images)\n",
    "print(classifications[0])"
   ]
  },
  {
   "cell_type": "code",
   "execution_count": 25,
   "id": "e5d8e5e3",
   "metadata": {},
   "outputs": [
    {
     "name": "stdout",
     "output_type": "stream",
     "text": [
      "9\n"
     ]
    }
   ],
   "source": [
    "print(test_labels[0])"
   ]
  },
  {
   "cell_type": "markdown",
   "id": "9e548504",
   "metadata": {},
   "source": [
    "**What would happen if you remove the Flatten() layer. Why do you think that's the case?\n",
    "\n",
    "You get an error about the shape of the data. The details of the error may seem vague right now, but it reinforces the rule of thumb that the first layer in your network should be the same shape as your data. Right now your data is 28x28 images, and 28 layers of 28 neurons would be infeasible, so it makes more sense to flatten that 28,28 into a 784x1.\n",
    "\n",
    "Instead of writing all the code, add the Flatten() layer at the beginning. When the arrays are loaded into the model later, they'll automatically be flattened for you."
   ]
  },
  {
   "cell_type": "markdown",
   "id": "2af7645d",
   "metadata": {},
   "source": [
    "**Consider the final (output) layers. Why are there 10 of them? What would happen if you had a different amount than 10?\n",
    "\n",
    "Try training the network with 5. You get an error as soon as it finds an unexpected value. Another rule of thumb—the number of neurons in the last layer should match the number of classes you are classifying for. In this case, it's the digits 0 through 9, so there are 10 of them, and hence you should have 10 neurons in your final layer."
   ]
  },
  {
   "cell_type": "markdown",
   "id": "f1aa10dc",
   "metadata": {},
   "source": [
    "**What would be the impact of removing Normalizing data? \n",
    "\n",
    "https://stackoverflow.com/questions/48284427/why-should-we-normalize-data-for-deep-learning-in-keras"
   ]
  },
  {
   "cell_type": "code",
   "execution_count": 26,
   "id": "0d2987c6",
   "metadata": {},
   "outputs": [
    {
     "name": "stdout",
     "output_type": "stream",
     "text": [
      "2.5.0\n",
      "Epoch 1/5\n",
      "1875/1875 [==============================] - 8s 4ms/step - loss: 3.9416\n",
      "Epoch 2/5\n",
      "1875/1875 [==============================] - 7s 4ms/step - loss: 0.5286\n",
      "Epoch 3/5\n",
      "1875/1875 [==============================] - 7s 4ms/step - loss: 0.4976\n",
      "Epoch 4/5\n",
      "1875/1875 [==============================] - 8s 4ms/step - loss: 0.4946\n",
      "Epoch 5/5\n",
      "1875/1875 [==============================] - 7s 4ms/step - loss: 0.4905A: 0s - loss: 0.490\n",
      "313/313 [==============================] - 1s 2ms/step - loss: 0.5086\n",
      "[1.4223238e-14 7.4531435e-17 2.1065885e-19 1.7491556e-13 9.0750069e-24\n",
      " 4.5898985e-03 8.1402406e-18 1.1731564e-02 1.8897744e-12 9.8367852e-01]\n",
      "9\n"
     ]
    }
   ],
   "source": [
    "\n",
    "mnist = tf.keras.datasets.fashion_mnist\n",
    "(training_images, training_labels), (test_images, test_labels) = mnist.load_data()\n",
    "\n",
    "#training_images=training_images/255.0\n",
    "#test_images=test_images/255.0\n",
    "\n",
    "model = tf.keras.models.Sequential([\n",
    "  tf.keras.layers.Flatten(),\n",
    "  tf.keras.layers.Dense(512, activation=tf.nn.relu),\n",
    "  tf.keras.layers.Dense(10, activation=tf.nn.softmax)\n",
    "])\n",
    "\n",
    "model.compile(optimizer='adam', loss='sparse_categorical_crossentropy')\n",
    "\n",
    "model.fit(training_images, training_labels, epochs=5)\n",
    "\n",
    "model.evaluate(test_images, test_labels)\n",
    "\n",
    "classifications = model.predict(test_images)\n",
    "\n",
    "print(classifications[0])\n",
    "print(test_labels[0])"
   ]
  },
  {
   "cell_type": "code",
   "execution_count": 28,
   "id": "480ed6bd",
   "metadata": {},
   "outputs": [
    {
     "name": "stdout",
     "output_type": "stream",
     "text": [
      "Epoch 1/50\n",
      "1875/1875 [==============================] - 7s 4ms/step - loss: 0.4738 - accuracy: 0.8316\n",
      "Epoch 2/50\n",
      "1875/1875 [==============================] - 7s 4ms/step - loss: 0.3582 - accuracy: 0.8695\n",
      "Epoch 3/50\n",
      "1875/1875 [==============================] - 7s 4ms/step - loss: 0.3228 - accuracy: 0.8815\n",
      "Epoch 4/50\n",
      "1875/1875 [==============================] - 7s 4ms/step - loss: 0.2965 - accuracy: 0.8901\n",
      "Epoch 5/50\n",
      "1875/1875 [==============================] - 8s 4ms/step - loss: 0.2782 - accuracy: 0.8968\n",
      "Epoch 6/50\n",
      "1875/1875 [==============================] - 8s 4ms/step - loss: 0.2629 - accuracy: 0.9019\n",
      "Epoch 7/50\n",
      "1875/1875 [==============================] - 7s 4ms/step - loss: 0.2515 - accuracy: 0.9051\n",
      "Epoch 8/50\n",
      "1875/1875 [==============================] - 7s 4ms/step - loss: 0.2409 - accuracy: 0.9097\n",
      "Epoch 9/50\n",
      "1875/1875 [==============================] - 7s 4ms/step - loss: 0.2314 - accuracy: 0.9138\n",
      "Epoch 10/50\n",
      "1875/1875 [==============================] - 7s 4ms/step - loss: 0.2233 - accuracy: 0.9170\n",
      "Epoch 11/50\n",
      "1875/1875 [==============================] - 7s 4ms/step - loss: 0.2125 - accuracy: 0.9203\n",
      "Epoch 12/50\n",
      "1875/1875 [==============================] - 6s 3ms/step - loss: 0.2051 - accuracy: 0.9234\n",
      "Epoch 13/50\n",
      "1875/1875 [==============================] - 9s 5ms/step - loss: 0.1998 - accuracy: 0.9247\n",
      "Epoch 14/50\n",
      "1875/1875 [==============================] - 7s 3ms/step - loss: 0.1918 - accuracy: 0.9279\n",
      "Epoch 15/50\n",
      "1875/1875 [==============================] - 9s 5ms/step - loss: 0.1825 - accuracy: 0.9305\n",
      "Epoch 16/50\n",
      "1875/1875 [==============================] - 8s 4ms/step - loss: 0.1810 - accuracy: 0.9317\n",
      "Epoch 17/50\n",
      "1875/1875 [==============================] - 7s 3ms/step - loss: 0.1725 - accuracy: 0.9342\n",
      "Epoch 18/50\n",
      "1875/1875 [==============================] - 8s 4ms/step - loss: 0.1683 - accuracy: 0.9367\n",
      "Epoch 19/50\n",
      "1875/1875 [==============================] - 7s 4ms/step - loss: 0.1616 - accuracy: 0.9395\n",
      "Epoch 20/50\n",
      "1875/1875 [==============================] - 8s 5ms/step - loss: 0.1596 - accuracy: 0.9388\n",
      "Epoch 21/50\n",
      "1875/1875 [==============================] - 8s 4ms/step - loss: 0.1526 - accuracy: 0.9429\n",
      "Epoch 22/50\n",
      "1875/1875 [==============================] - 7s 4ms/step - loss: 0.1497 - accuracy: 0.9434\n",
      "Epoch 23/50\n",
      "1875/1875 [==============================] - 8s 4ms/step - loss: 0.1454 - accuracy: 0.9454\n",
      "Epoch 24/50\n",
      "1875/1875 [==============================] - 8s 4ms/step - loss: 0.1408 - accuracy: 0.9465\n",
      "Epoch 25/50\n",
      "1875/1875 [==============================] - 6s 3ms/step - loss: 0.1389 - accuracy: 0.9474\n",
      "Epoch 26/50\n",
      "1875/1875 [==============================] - 8s 4ms/step - loss: 0.1326 - accuracy: 0.9494\n",
      "Epoch 27/50\n",
      "1875/1875 [==============================] - 7s 4ms/step - loss: 0.1287 - accuracy: 0.9518\n",
      "\n",
      "Reached 95% accuracy so cancelling training!\n"
     ]
    },
    {
     "data": {
      "text/plain": [
       "<tensorflow.python.keras.callbacks.History at 0x1e24034ba60>"
      ]
     },
     "execution_count": 28,
     "metadata": {},
     "output_type": "execute_result"
    }
   ],
   "source": [
    "# Explore callbacks\n",
    "\n",
    "class myCallback(tf.keras.callbacks.Callback):\n",
    "  def on_epoch_end(self, epoch, logs={}):\n",
    "    if(logs.get('accuracy')>0.95):\n",
    "      print(\"\\nReached 95% accuracy so cancelling training!\")\n",
    "      self.model.stop_training = True\n",
    "\n",
    "callbacks = myCallback()\n",
    "mnist = tf.keras.datasets.fashion_mnist\n",
    "(training_images, training_labels), (test_images, test_labels) = mnist.load_data()\n",
    "training_images=training_images/255.0\n",
    "test_images=test_images/255.0\n",
    "model = tf.keras.models.Sequential([\n",
    "  tf.keras.layers.Flatten(),\n",
    "  tf.keras.layers.Dense(512, activation=tf.nn.relu),\n",
    "  tf.keras.layers.Dense(10, activation=tf.nn.softmax)\n",
    "])\n",
    "model.compile(optimizer='adam', loss='sparse_categorical_crossentropy', metrics=['accuracy'])\n",
    "model.fit(training_images, training_labels, epochs=50, callbacks=[callbacks])\n"
   ]
  },
  {
   "cell_type": "code",
   "execution_count": null,
   "id": "047f2591",
   "metadata": {},
   "outputs": [],
   "source": []
  }
 ],
 "metadata": {
  "kernelspec": {
   "display_name": "Python 3",
   "language": "python",
   "name": "python3"
  },
  "language_info": {
   "codemirror_mode": {
    "name": "ipython",
    "version": 3
   },
   "file_extension": ".py",
   "mimetype": "text/x-python",
   "name": "python",
   "nbconvert_exporter": "python",
   "pygments_lexer": "ipython3",
   "version": "3.8.8"
  }
 },
 "nbformat": 4,
 "nbformat_minor": 5
}
